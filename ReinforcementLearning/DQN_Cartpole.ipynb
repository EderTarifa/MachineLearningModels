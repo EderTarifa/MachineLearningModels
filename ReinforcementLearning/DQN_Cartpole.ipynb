{
  "cells": [
    {
      "cell_type": "markdown",
      "metadata": {
        "id": "8TT3LPGc5PuK"
      },
      "source": [
        "\n",
        "\n",
        "<p><img height=\"80px\" src=\"https://www.upm.es/sfs/Rectorado/Gabinete%20del%20Rector/Logos/UPM/Escudo/EscUpm.jpg\" align=\"left\" hspace=\"0px\" vspace=\"0px\"></p>\n",
        "\n",
        "**Universidad Politécnica de Madrid (UPM)**\n",
        "\n",
        "# **Deep Q-Learning for Cartpole**\n",
        "\n",
        "This notebook includes an implementation of the Deep Q-learning (DQN) algorithm for the cartpole problem (see [Cartpole documentation](https://gymnasium.farama.org/environments/classic_control/cart_pole/)).\n"
      ]
    },
    {
      "cell_type": "markdown",
      "metadata": {
        "id": "JXBzOdaLAEUn"
      },
      "source": [
        "##Libraries"
      ]
    },
    {
      "cell_type": "code",
      "execution_count": 1,
      "metadata": {
        "id": "LjLS1WetFhCE",
        "colab": {
          "base_uri": "https://localhost:8080/"
        },
        "outputId": "4d3be8e7-18ff-4471-a7f1-2613ad3773b9"
      },
      "outputs": [
        {
          "output_type": "stream",
          "name": "stdout",
          "text": [
            "Collecting gymnasium[classic-control]\n",
            "  Downloading gymnasium-0.29.1-py3-none-any.whl (953 kB)\n",
            "\u001b[2K     \u001b[90m━━━━━━━━━━━━━━━━━━━━━━━━━━━━━━━━━━━━━━━━\u001b[0m \u001b[32m953.9/953.9 kB\u001b[0m \u001b[31m7.5 MB/s\u001b[0m eta \u001b[36m0:00:00\u001b[0m\n",
            "\u001b[?25hRequirement already satisfied: numpy>=1.21.0 in /usr/local/lib/python3.10/dist-packages (from gymnasium[classic-control]) (1.25.2)\n",
            "Requirement already satisfied: cloudpickle>=1.2.0 in /usr/local/lib/python3.10/dist-packages (from gymnasium[classic-control]) (2.2.1)\n",
            "Requirement already satisfied: typing-extensions>=4.3.0 in /usr/local/lib/python3.10/dist-packages (from gymnasium[classic-control]) (4.10.0)\n",
            "Collecting farama-notifications>=0.0.1 (from gymnasium[classic-control])\n",
            "  Downloading Farama_Notifications-0.0.4-py3-none-any.whl (2.5 kB)\n",
            "Requirement already satisfied: pygame>=2.1.3 in /usr/local/lib/python3.10/dist-packages (from gymnasium[classic-control]) (2.5.2)\n",
            "Installing collected packages: farama-notifications, gymnasium\n",
            "Successfully installed farama-notifications-0.0.4 gymnasium-0.29.1\n"
          ]
        }
      ],
      "source": [
        "!pip install gymnasium[classic-control]\n",
        "\n",
        "import gymnasium as gym\n",
        "import numpy as np\n",
        "from tensorflow import keras\n",
        "import matplotlib.pyplot as plt\n",
        "import time\n",
        "import random\n",
        "import math"
      ]
    },
    {
      "cell_type": "markdown",
      "metadata": {
        "id": "nBrRuhN1AQ-s"
      },
      "source": [
        "## Hyperparameters"
      ]
    },
    {
      "cell_type": "code",
      "execution_count": 2,
      "metadata": {
        "id": "4N2yVwtuFlBu"
      },
      "outputs": [],
      "source": [
        "GAMMA = 0.99\n",
        "MEMORY_SIZE = 100000\n",
        "LEARNING_RATE = 0.001\n",
        "BATCH_SIZE = 64\n",
        "EXPLORATION_MAX = 1\n",
        "EXPLORATION_MIN = 0.01\n",
        "EXPLORATION_DECAY = 0.96\n",
        "MAX_NUMBER_OF_EPISODES_FOR_TRAINING = 600\n",
        "NUMBER_OF_EPISODES_FOR_TESTING = 30\n",
        "GOAL_SCORE = 400\n",
        "NUMBER_OF_EPISODES_FOR_TESTING_GOAL_SCORE = 30"
      ]
    },
    {
      "cell_type": "markdown",
      "source": [],
      "metadata": {
        "id": "Mi3Nla9mmQb_"
      }
    },
    {
      "cell_type": "markdown",
      "metadata": {
        "id": "OoGaas6TAd6p"
      },
      "source": [
        "## Class ReplayMemory\n",
        "\n",
        "Memory of transitions for experience replay."
      ]
    },
    {
      "cell_type": "code",
      "execution_count": 3,
      "metadata": {
        "id": "cQV7IfhFOoSh"
      },
      "outputs": [],
      "source": [
        "class ReplayMemory:\n",
        "\n",
        "    def __init__(self,number_of_observations):\n",
        "        # Create replay memory\n",
        "        self.states = np.zeros((MEMORY_SIZE, number_of_observations))\n",
        "        self.states_next = np.zeros((MEMORY_SIZE, number_of_observations))\n",
        "        self.actions = np.zeros(MEMORY_SIZE, dtype=np.int32)\n",
        "        self.rewards = np.zeros(MEMORY_SIZE)\n",
        "        self.terminal_states = np.zeros(MEMORY_SIZE, dtype=bool)\n",
        "        self.current_size=0\n",
        "\n",
        "    def store_transition(self, state, action, reward, state_next, terminal_state):\n",
        "        # Store a transition (s,a,r,s') in the replay memory\n",
        "        i = self.current_size\n",
        "        self.states[i] = state\n",
        "        self.states_next[i] = state_next\n",
        "        self.actions[i] = action\n",
        "        self.rewards[i] = reward\n",
        "        self.terminal_states[i] = terminal_state\n",
        "        self.current_size = i + 1\n",
        "\n",
        "    def sample_memory(self, batch_size):\n",
        "        # Generate a sample of transitions from the replay memory\n",
        "        batch = np.random.choice(self.current_size, batch_size)\n",
        "        states = self.states[batch]\n",
        "        states_next = self.states_next[batch]\n",
        "        rewards = self.rewards[batch]\n",
        "        actions = self.actions[batch]\n",
        "        terminal_states = self.terminal_states[batch]\n",
        "        return states, actions, rewards, states_next, terminal_states"
      ]
    },
    {
      "cell_type": "markdown",
      "metadata": {
        "id": "gejKO0OYAsS4"
      },
      "source": [
        "## Class DQN\n",
        "\n",
        "Reinforcement learning agent with a Deep Q-Network."
      ]
    },
    {
      "cell_type": "code",
      "execution_count": 4,
      "metadata": {
        "id": "NZ6P4Gj0FtnU"
      },
      "outputs": [],
      "source": [
        "class DQN:\n",
        "\n",
        "    def __init__(self, number_of_observations, number_of_actions):\n",
        "        # Initialize variables and create neural model\n",
        "        self.number_of_actions = number_of_actions\n",
        "        self.number_of_observations = number_of_observations\n",
        "        self.scores = []\n",
        "        self.memory = ReplayMemory(number_of_observations)\n",
        "\n",
        "        # Neural model\n",
        "        self.model = keras.models.Sequential()\n",
        "        self.model.add(keras.layers.Dense(24, input_shape=(number_of_observations,), \\\n",
        "                             activation=\"relu\",kernel_initializer=\"he_normal\"))\n",
        "        self.model.add(keras.layers.Dense(24, activation=\"relu\",kernel_initializer=\"he_normal\"))\n",
        "        self.model.add(keras.layers.Dense(number_of_actions, activation=\"linear\"))\n",
        "        self.model.compile(loss=\"mse\", optimizer=keras.optimizers.Adam(learning_rate=LEARNING_RATE))\n",
        "\n",
        "    def remember(self, state, action, reward, next_state, terminal_state):\n",
        "        # Store a tuple (s, a, r, s') for experience replay\n",
        "        state = np.reshape(state, [1, self.number_of_observations])\n",
        "        next_state = np.reshape(next_state, [1, self.number_of_observations])\n",
        "        self.memory.store_transition(state, action, reward, next_state, terminal_state)\n",
        "\n",
        "    def select(self, state, exploration_rate):\n",
        "        # Generate an action for a given state using epsilon-greedy policy\n",
        "        if np.random.rand() < exploration_rate:\n",
        "            return random.randrange(self.number_of_actions)\n",
        "        else:\n",
        "            state = np.reshape(state, [1, self.number_of_observations])\n",
        "            q_values = self.model(state).numpy()\n",
        "            return np.argmax(q_values[0])\n",
        "\n",
        "    def select_greedy_policy(self, state):\n",
        "        # Generate an action for a given state using greedy policy\n",
        "        state = np.reshape(state, [1, self.number_of_observations])\n",
        "        q_values = self.model(state).numpy()\n",
        "        return np.argmax(q_values[0])\n",
        "\n",
        "    def learn(self):\n",
        "        # Learn the value Q using a sample of examples from the replay memory\n",
        "        if self.memory.current_size < BATCH_SIZE: return\n",
        "\n",
        "        states, actions, rewards, next_states, terminal_states = self.memory.sample_memory(BATCH_SIZE)\n",
        "\n",
        "        q_targets = self.model(states).numpy()\n",
        "        q_next_states = self.model(next_states).numpy()\n",
        "\n",
        "        for i in range(BATCH_SIZE):\n",
        "             if (terminal_states[i]):\n",
        "                  q_targets[i][actions[i]] = rewards[i]\n",
        "             else:\n",
        "                  q_targets[i][actions[i]] = rewards[i] + GAMMA * np.max(q_next_states[i])\n",
        "\n",
        "        self.model.train_on_batch(states, q_targets)\n",
        "\n",
        "    def add_score(self, score):\n",
        "        # Add the obtained score to a list to be presented later\n",
        "        self.scores.append(score)\n",
        "\n",
        "    def delete_scores(self):\n",
        "        # Delete the scores\n",
        "        self.scores = []\n",
        "\n",
        "    def average_score(self, number_of_episodes):\n",
        "        # Compute average score of the last episodes\n",
        "        index = len(agent.scores) - number_of_episodes\n",
        "        return np.mean(self.scores[max(0,index):(len(agent.scores))])\n",
        "\n",
        "    def display_scores_graphically(self):\n",
        "        # Display the obtained scores graphically\n",
        "        plt.plot(self.scores)\n",
        "        plt.xlabel(\"Episode\")\n",
        "        plt.ylabel(\"Score\")"
      ]
    },
    {
      "cell_type": "markdown",
      "metadata": {
        "id": "d-YSpziT0K9I"
      },
      "source": [
        "## Environment Cartpole\n",
        "\n",
        "<p><img height=\"200px\" src=\"https://raw.githubusercontent.com/martin-molina/reinforcement_learning/main/images/cartpole_attributes.png\" align=\"center\" vspace=\"20px\"</p>\n",
        "\n",
        "State vector:\n",
        "- state[0]: cart position\n",
        "- state[1]: cart velocity\n",
        "- state[2]: pole angle\n",
        "- state[3]: pole angular velocity\n",
        "\n",
        "Actions:\n",
        "- 0 (push cart to the left)\n",
        "- 1 (push cart to the right)"
      ]
    },
    {
      "cell_type": "code",
      "execution_count": 5,
      "metadata": {
        "id": "4LBloUSG0LmT"
      },
      "outputs": [],
      "source": [
        "def create_environment():\n",
        "    # Create simulated environment\n",
        "    environment = gym.make(\"CartPole-v1\")\n",
        "    number_of_observations = environment.observation_space.shape[0]\n",
        "    number_of_actions = environment.action_space.n\n",
        "    return environment, number_of_observations, number_of_actions"
      ]
    },
    {
      "cell_type": "markdown",
      "metadata": {
        "id": "hbbw6blhDcsJ"
      },
      "source": [
        "## Program for training\n",
        "\n",
        "\n"
      ]
    },
    {
      "cell_type": "code",
      "execution_count": 6,
      "metadata": {
        "colab": {
          "base_uri": "https://localhost:8080/",
          "height": 1000
        },
        "id": "yuzI0m5u5vVf",
        "outputId": "fab5e2b3-50a7-40e9-e5ee-2719a6a9968d"
      },
      "outputs": [
        {
          "output_type": "stream",
          "name": "stdout",
          "text": [
            "Episode   1: score  14 (exploration rate: 1.000, average score:  14, transitions: 14)\n",
            "Episode   2: score  10 (exploration rate: 0.960, average score:  12, transitions: 24)\n",
            "Episode   3: score  40 (exploration rate: 0.922, average score:  21, transitions: 64)\n",
            "Episode   4: score  11 (exploration rate: 0.885, average score:  19, transitions: 75)\n",
            "Episode   5: score  11 (exploration rate: 0.849, average score:  17, transitions: 86)\n",
            "Episode   6: score  21 (exploration rate: 0.815, average score:  18, transitions: 107)\n",
            "Episode   7: score  11 (exploration rate: 0.783, average score:  17, transitions: 118)\n",
            "Episode   8: score  14 (exploration rate: 0.751, average score:  16, transitions: 132)\n",
            "Episode   9: score  12 (exploration rate: 0.721, average score:  16, transitions: 144)\n",
            "Episode  10: score  18 (exploration rate: 0.693, average score:  16, transitions: 162)\n",
            "Episode  11: score   9 (exploration rate: 0.665, average score:  16, transitions: 171)\n",
            "Episode  12: score  15 (exploration rate: 0.638, average score:  16, transitions: 186)\n",
            "Episode  13: score  13 (exploration rate: 0.613, average score:  15, transitions: 199)\n",
            "Episode  14: score  13 (exploration rate: 0.588, average score:  15, transitions: 212)\n",
            "Episode  15: score   9 (exploration rate: 0.565, average score:  15, transitions: 221)\n",
            "Episode  16: score  15 (exploration rate: 0.542, average score:  15, transitions: 236)\n",
            "Episode  17: score  12 (exploration rate: 0.520, average score:  15, transitions: 248)\n",
            "Episode  18: score  16 (exploration rate: 0.500, average score:  15, transitions: 264)\n",
            "Episode  19: score  19 (exploration rate: 0.480, average score:  15, transitions: 283)\n",
            "Episode  20: score  15 (exploration rate: 0.460, average score:  15, transitions: 298)\n",
            "Episode  21: score  10 (exploration rate: 0.442, average score:  15, transitions: 308)\n",
            "Episode  22: score   8 (exploration rate: 0.424, average score:  14, transitions: 316)\n",
            "Episode  23: score  12 (exploration rate: 0.407, average score:  14, transitions: 328)\n",
            "Episode  24: score   9 (exploration rate: 0.391, average score:  14, transitions: 337)\n",
            "Episode  25: score  11 (exploration rate: 0.375, average score:  14, transitions: 348)\n",
            "Episode  26: score  11 (exploration rate: 0.360, average score:  14, transitions: 359)\n",
            "Episode  27: score  12 (exploration rate: 0.346, average score:  14, transitions: 371)\n",
            "Episode  28: score   9 (exploration rate: 0.332, average score:  14, transitions: 380)\n",
            "Episode  29: score  10 (exploration rate: 0.319, average score:  13, transitions: 390)\n",
            "Episode  30: score  10 (exploration rate: 0.306, average score:  13, transitions: 400)\n",
            "Episode  31: score   9 (exploration rate: 0.294, average score:  13, transitions: 409)\n",
            "Episode  32: score  12 (exploration rate: 0.282, average score:  13, transitions: 421)\n",
            "Episode  33: score  11 (exploration rate: 0.271, average score:  12, transitions: 432)\n",
            "Episode  34: score  13 (exploration rate: 0.260, average score:  12, transitions: 445)\n",
            "Episode  35: score  13 (exploration rate: 0.250, average score:  12, transitions: 458)\n",
            "Episode  36: score  10 (exploration rate: 0.240, average score:  12, transitions: 468)\n",
            "Episode  37: score  14 (exploration rate: 0.230, average score:  12, transitions: 482)\n",
            "Episode  38: score  11 (exploration rate: 0.221, average score:  12, transitions: 493)\n",
            "Episode  39: score  10 (exploration rate: 0.212, average score:  12, transitions: 503)\n",
            "Episode  40: score  10 (exploration rate: 0.204, average score:  12, transitions: 513)\n",
            "Episode  41: score  12 (exploration rate: 0.195, average score:  12, transitions: 525)\n",
            "Episode  42: score  12 (exploration rate: 0.188, average score:  12, transitions: 537)\n",
            "Episode  43: score  12 (exploration rate: 0.180, average score:  12, transitions: 549)\n",
            "Episode  44: score   9 (exploration rate: 0.173, average score:  12, transitions: 558)\n",
            "Episode  45: score  10 (exploration rate: 0.166, average score:  12, transitions: 568)\n",
            "Episode  46: score   9 (exploration rate: 0.159, average score:  11, transitions: 577)\n",
            "Episode  47: score  10 (exploration rate: 0.153, average score:  11, transitions: 587)\n",
            "Episode  48: score  10 (exploration rate: 0.147, average score:  11, transitions: 597)\n",
            "Episode  49: score  11 (exploration rate: 0.141, average score:  11, transitions: 608)\n",
            "Episode  50: score  30 (exploration rate: 0.135, average score:  11, transitions: 638)\n",
            "Episode  51: score  12 (exploration rate: 0.130, average score:  11, transitions: 650)\n",
            "Episode  52: score  10 (exploration rate: 0.125, average score:  11, transitions: 660)\n",
            "Episode  53: score   9 (exploration rate: 0.120, average score:  11, transitions: 669)\n",
            "Episode  54: score  11 (exploration rate: 0.115, average score:  11, transitions: 680)\n",
            "Episode  55: score   8 (exploration rate: 0.110, average score:  11, transitions: 688)\n",
            "Episode  56: score  10 (exploration rate: 0.106, average score:  11, transitions: 698)\n",
            "Episode  57: score  11 (exploration rate: 0.102, average score:  11, transitions: 709)\n",
            "Episode  58: score   9 (exploration rate: 0.098, average score:  11, transitions: 718)\n",
            "Episode  59: score   9 (exploration rate: 0.094, average score:  11, transitions: 727)\n",
            "Episode  60: score   9 (exploration rate: 0.090, average score:  11, transitions: 736)\n",
            "Episode  61: score   9 (exploration rate: 0.086, average score:  11, transitions: 745)\n",
            "Episode  62: score  10 (exploration rate: 0.083, average score:  11, transitions: 755)\n",
            "Episode  63: score  10 (exploration rate: 0.080, average score:  11, transitions: 765)\n",
            "Episode  64: score   8 (exploration rate: 0.076, average score:  11, transitions: 773)\n",
            "Episode  65: score  10 (exploration rate: 0.073, average score:  11, transitions: 783)\n",
            "Episode  66: score  34 (exploration rate: 0.070, average score:  12, transitions: 817)\n",
            "Episode  67: score  50 (exploration rate: 0.068, average score:  13, transitions: 867)\n",
            "Episode  68: score  45 (exploration rate: 0.065, average score:  14, transitions: 912)\n",
            "Episode  69: score  80 (exploration rate: 0.062, average score:  16, transitions: 992)\n",
            "Episode  70: score  47 (exploration rate: 0.060, average score:  18, transitions: 1039)\n",
            "Episode  71: score  26 (exploration rate: 0.057, average score:  18, transitions: 1065)\n",
            "Episode  72: score  30 (exploration rate: 0.055, average score:  19, transitions: 1095)\n",
            "Episode  73: score  39 (exploration rate: 0.053, average score:  20, transitions: 1134)\n",
            "Episode  74: score  35 (exploration rate: 0.051, average score:  20, transitions: 1169)\n",
            "Episode  75: score  25 (exploration rate: 0.049, average score:  21, transitions: 1194)\n",
            "Episode  76: score  58 (exploration rate: 0.047, average score:  22, transitions: 1252)\n",
            "Episode  77: score  68 (exploration rate: 0.045, average score:  24, transitions: 1320)\n",
            "Episode  78: score  52 (exploration rate: 0.043, average score:  26, transitions: 1372)\n",
            "Episode  79: score  38 (exploration rate: 0.041, average score:  27, transitions: 1410)\n",
            "Episode  80: score  41 (exploration rate: 0.040, average score:  27, transitions: 1451)\n",
            "Episode  81: score  41 (exploration rate: 0.038, average score:  28, transitions: 1492)\n",
            "Episode  82: score 125 (exploration rate: 0.037, average score:  32, transitions: 1617)\n",
            "Episode  83: score  68 (exploration rate: 0.035, average score:  34, transitions: 1685)\n",
            "Episode  84: score  52 (exploration rate: 0.034, average score:  35, transitions: 1737)\n",
            "Episode  85: score  90 (exploration rate: 0.032, average score:  38, transitions: 1827)\n",
            "Episode  86: score  89 (exploration rate: 0.031, average score:  41, transitions: 1916)\n",
            "Episode  87: score  53 (exploration rate: 0.030, average score:  42, transitions: 1969)\n",
            "Episode  88: score  60 (exploration rate: 0.029, average score:  44, transitions: 2029)\n",
            "Episode  89: score  37 (exploration rate: 0.028, average score:  45, transitions: 2066)\n",
            "Episode  90: score  49 (exploration rate: 0.026, average score:  46, transitions: 2115)\n",
            "Episode  91: score  74 (exploration rate: 0.025, average score:  48, transitions: 2189)\n",
            "Episode  92: score 157 (exploration rate: 0.024, average score:  53, transitions: 2346)\n",
            "Episode  93: score  75 (exploration rate: 0.023, average score:  55, transitions: 2421)\n",
            "Episode  94: score  85 (exploration rate: 0.022, average score:  58, transitions: 2506)\n",
            "Episode  95: score 174 (exploration rate: 0.022, average score:  63, transitions: 2680)\n",
            "Episode  96: score 160 (exploration rate: 0.021, average score:  67, transitions: 2840)\n",
            "Episode  97: score 145 (exploration rate: 0.020, average score:  71, transitions: 2985)\n",
            "Episode  98: score 175 (exploration rate: 0.019, average score:  75, transitions: 3160)\n",
            "Episode  99: score 114 (exploration rate: 0.018, average score:  76, transitions: 3274)\n",
            "Episode 100: score 101 (exploration rate: 0.018, average score:  78, transitions: 3375)\n",
            "Episode 101: score 220 (exploration rate: 0.017, average score:  84, transitions: 3595)\n",
            "Episode 102: score 119 (exploration rate: 0.016, average score:  87, transitions: 3714)\n",
            "Episode 103: score 135 (exploration rate: 0.016, average score:  90, transitions: 3849)\n",
            "Episode 104: score  95 (exploration rate: 0.015, average score:  92, transitions: 3944)\n",
            "Episode 105: score 111 (exploration rate: 0.014, average score:  95, transitions: 4055)\n",
            "Episode 106: score 117 (exploration rate: 0.014, average score:  97, transitions: 4172)\n",
            "Episode 107: score 149 (exploration rate: 0.013, average score: 100, transitions: 4321)\n",
            "Episode 108: score 152 (exploration rate: 0.013, average score: 103, transitions: 4473)\n",
            "Episode 109: score 175 (exploration rate: 0.012, average score: 108, transitions: 4648)\n",
            "Episode 110: score 193 (exploration rate: 0.012, average score: 113, transitions: 4841)\n",
            "Episode 111: score 244 (exploration rate: 0.011, average score: 120, transitions: 5085)\n",
            "Episode 112: score 369 (exploration rate: 0.011, average score: 128, transitions: 5454)\n",
            "Episode 113: score 210 (exploration rate: 0.010, average score: 133, transitions: 5664)\n",
            "Episode 114: score 294 (exploration rate: 0.010, average score: 141, transitions: 5958)\n",
            "Episode 115: score 189 (exploration rate: 0.010, average score: 144, transitions: 6147)\n",
            "Episode 116: score 330 (exploration rate: 0.010, average score: 152, transitions: 6477)\n",
            "Episode 117: score 317 (exploration rate: 0.010, average score: 161, transitions: 6794)\n",
            "Episode 118: score 346 (exploration rate: 0.010, average score: 170, transitions: 7140)\n",
            "Episode 119: score 500 (exploration rate: 0.010, average score: 186, transitions: 7640)\n",
            "Episode 120: score 500 (exploration rate: 0.010, average score: 201, transitions: 8140)\n",
            "Episode 121: score 500 (exploration rate: 0.010, average score: 215, transitions: 8640)\n",
            "Episode 122: score 446 (exploration rate: 0.010, average score: 225, transitions: 9086)\n",
            "Episode 123: score 408 (exploration rate: 0.010, average score: 236, transitions: 9494)\n",
            "Episode 124: score 500 (exploration rate: 0.010, average score: 250, transitions: 9994)\n",
            "Episode 125: score 382 (exploration rate: 0.010, average score: 257, transitions: 10376)\n",
            "Episode 126: score 500 (exploration rate: 0.010, average score: 268, transitions: 10876)\n",
            "Episode 127: score 500 (exploration rate: 0.010, average score: 280, transitions: 11376)\n",
            "Episode 128: score 500 (exploration rate: 0.010, average score: 291, transitions: 11876)\n",
            "Episode 129: score 380 (exploration rate: 0.010, average score: 299, transitions: 12256)\n",
            "Episode 130: score 500 (exploration rate: 0.010, average score: 313, transitions: 12756)\n",
            "Episode 131: score 500 (exploration rate: 0.010, average score: 322, transitions: 13256)\n",
            "Episode 132: score 500 (exploration rate: 0.010, average score: 335, transitions: 13756)\n",
            "Episode 133: score 500 (exploration rate: 0.010, average score: 347, transitions: 14256)\n",
            "Episode 134: score 500 (exploration rate: 0.010, average score: 360, transitions: 14756)\n",
            "Episode 135: score 500 (exploration rate: 0.010, average score: 373, transitions: 15256)\n",
            "Episode 136: score 500 (exploration rate: 0.010, average score: 386, transitions: 15756)\n",
            "Episode 137: score 500 (exploration rate: 0.010, average score: 398, transitions: 16256)\n",
            "Episode 138: score 500 (exploration rate: 0.010, average score: 409, transitions: 16756)\n",
            "Time for training: 5 minutes\n",
            "Score (average last episodes): 409\n",
            "Score (max): 500\n"
          ]
        },
        {
          "output_type": "display_data",
          "data": {
            "text/plain": [
              "<Figure size 640x480 with 1 Axes>"
            ],
            "image/png": "[encoded data removed]"
          },
          "metadata": {}
        }
      ],
      "source": [
        "environment, number_of_observations, number_of_actions = create_environment()\n",
        "agent = DQN(number_of_observations, number_of_actions)\n",
        "episode = 0\n",
        "start_time = time.perf_counter()\n",
        "total_steps = 1\n",
        "exploration_rate = EXPLORATION_MAX\n",
        "goal_reached = False\n",
        "while (episode < MAX_NUMBER_OF_EPISODES_FOR_TRAINING) and not(goal_reached):\n",
        "    episode += 1\n",
        "    score = 0\n",
        "    state, info = environment.reset()\n",
        "    end_episode = False\n",
        "    while not(end_episode):\n",
        "        # Select an action for the current state\n",
        "        action = agent.select(state, exploration_rate)\n",
        "\n",
        "        # Execute the action on the environment\n",
        "        state_next, reward, terminal_state, truncated, info = environment.step(action)\n",
        "\n",
        "        # Store in memory the transition (s,a,r,s')\n",
        "        agent.remember(state, action, reward, state_next, terminal_state)\n",
        "\n",
        "        score += reward\n",
        "\n",
        "        # Learn using a batch of experience stored in memory\n",
        "        agent.learn()\n",
        "\n",
        "        # Detect end of episode\n",
        "        if terminal_state or truncated:\n",
        "            end_episode = True\n",
        "            agent.add_score(score)\n",
        "            average_score = agent.average_score(NUMBER_OF_EPISODES_FOR_TESTING_GOAL_SCORE)\n",
        "            if average_score >= GOAL_SCORE: goal_reached = True\n",
        "            print(\"Episode {0:>3}: \".format(episode), end = '')\n",
        "            print(\"score {0:>3} \".format(math.trunc(score)), end = '')\n",
        "            print(\"(exploration rate: %.3f, \" % exploration_rate, end = '')\n",
        "            print(\"average score: {0:>3}, \".format(round(average_score)), end = '')\n",
        "            print(\"transitions: \" + str(agent.memory.current_size) + \")\")\n",
        "        else:\n",
        "            state = state_next\n",
        "            total_steps += 1\n",
        "\n",
        "    # Decrease exploration rate\n",
        "    exploration_rate *= EXPLORATION_DECAY\n",
        "    exploration_rate = max(EXPLORATION_MIN, exploration_rate)\n",
        "\n",
        "print(\"Time for training:\", round((time.perf_counter() - start_time)/60), \"minutes\")\n",
        "print(\"Score (average last episodes):\", round(average_score))\n",
        "print(\"Score (max):\", round(max(agent.scores)))\n",
        "\n",
        "agent.display_scores_graphically()"
      ]
    },
    {
      "cell_type": "markdown",
      "source": [
        "\n",
        "## Program for testing\n",
        "\n"
      ],
      "metadata": {
        "id": "vSteJT6ULQVG"
      }
    },
    {
      "cell_type": "code",
      "source": [
        "agent.delete_scores()\n",
        "episode = 0\n",
        "start_time = time.perf_counter()\n",
        "while (episode < NUMBER_OF_EPISODES_FOR_TESTING):\n",
        "    episode += 1\n",
        "    score = 0\n",
        "    state, info = environment.reset()\n",
        "    end_episode = False\n",
        "    while not(end_episode):\n",
        "        # Select an action for the current state\n",
        "        action = agent.select_greedy_policy(state)\n",
        "\n",
        "        # Execute the action in the environment\n",
        "        state_next, reward, terminal_state, truncated, info = environment.step(action)\n",
        "\n",
        "        score += reward\n",
        "\n",
        "        # Detect end of episode and print\n",
        "        if terminal_state or truncated:\n",
        "            agent.add_score(score)\n",
        "            print(\"Episode {0:>3}: \".format(episode), end = '')\n",
        "            print(\"score {0:>3} \\n\".format(round(score)), end = '')\n",
        "            end_episode = True\n",
        "        else:\n",
        "            state = state_next\n",
        "\n",
        "print(\"Time for testing:\", round((time.perf_counter() - start_time)/60), \"minutes\")\n",
        "print(\"Score (average):\", round(np.mean(agent.scores)))\n",
        "print(\"Score (max):\", round(max(agent.scores)))"
      ],
      "metadata": {
        "id": "gIP0LQHGLZPj",
        "colab": {
          "base_uri": "https://localhost:8080/"
        },
        "outputId": "def2d839-1ee7-48a4-939e-f56049c5c68f"
      },
      "execution_count": 7,
      "outputs": [
        {
          "output_type": "stream",
          "name": "stdout",
          "text": [
            "Episode   1: score 500 \n",
            "Episode   2: score 500 \n",
            "Episode   3: score 500 \n",
            "Episode   4: score 500 \n",
            "Episode   5: score 500 \n",
            "Episode   6: score 500 \n",
            "Episode   7: score 500 \n",
            "Episode   8: score 500 \n",
            "Episode   9: score 500 \n",
            "Episode  10: score 500 \n",
            "Episode  11: score 500 \n",
            "Episode  12: score 500 \n",
            "Episode  13: score 500 \n",
            "Episode  14: score 500 \n",
            "Episode  15: score 500 \n",
            "Episode  16: score 500 \n",
            "Episode  17: score 500 \n",
            "Episode  18: score 500 \n",
            "Episode  19: score 500 \n",
            "Episode  20: score 500 \n",
            "Episode  21: score 500 \n",
            "Episode  22: score 500 \n",
            "Episode  23: score 500 \n",
            "Episode  24: score 500 \n",
            "Episode  25: score 500 \n",
            "Episode  26: score 500 \n",
            "Episode  27: score 500 \n",
            "Episode  28: score 500 \n",
            "Episode  29: score 500 \n",
            "Episode  30: score 500 \n",
            "Time for testing: 1 minutes\n",
            "Score (average): 500\n",
            "Score (max): 500\n"
          ]
        }
      ]
    }
  ],
  "metadata": {
    "accelerator": "TPU",
    "colab": {
      "provenance": []
    },
    "kernelspec": {
      "display_name": "Python 3",
      "name": "python3"
    }
  },
  "nbformat": 4,
  "nbformat_minor": 0
}